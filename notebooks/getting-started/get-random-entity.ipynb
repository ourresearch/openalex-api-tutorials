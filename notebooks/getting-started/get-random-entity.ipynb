{
 "cells": [
  {
   "cell_type": "markdown",
   "id": "230c97f7-1471-4c29-bf95-decb29c2a2ae",
   "metadata": {},
   "source": [
    "<div align=\"center\">\n",
    "    <a href=\"https://openalex.org/\">\n",
    "        <img src=\"../../resources/img/OpenAlex-logo.png\" alt=\"OpenAlex logo\" width=\"300\">\n",
    "    </a>\n",
    "</div>"
   ]
  },
  {
   "cell_type": "markdown",
   "id": "7796f7f3-4cc9-4951-a9eb-bb2b6d3949cb",
   "metadata": {},
   "source": [
    "# That's so random!\n",
    "\n",
    "Want to explore the OpenAlex API in a fun nerdy way?  \n",
    "\n",
    "Simply add \"_/random_\" (-> [docs](https://docs.openalex.org/api/get-single-entities#random-entity)) to any of the API endpoints like this:\n",
    "\n",
    "* for a random author:       http://api.openalex.org/authors/random\n",
    "* for a random concept:      http://api.openalex.org/concepts/random\n",
    "* for a random institution:  http://api.openalex.org/institutions/random\n",
    "* for a random venue:        http://api.openalex.org/venues/random\n",
    "* for a random work:         http://api.openalex.org/works/random\n",
    "\n",
    "Each time you call one of these URLs you'll get a different entity.  \n",
    "`random` lets you dive right into the data and get a feel for what attributes are available for an entity type and how they are represented in JSON.\n",
    "***"
   ]
  },
  {
   "cell_type": "markdown",
   "id": "a3ff3c1f-acae-4c1b-b674-2c23a714d4af",
   "metadata": {},
   "source": [
    "Let's see for ourselves and query the OpenAlex API for a random work:"
   ]
  },
  {
   "cell_type": "code",
   "execution_count": 1,
   "id": "2b325b3d-450b-4c22-a31f-79c4b1d2d52d",
   "metadata": {},
   "outputs": [
    {
     "name": "stdout",
     "output_type": "stream",
     "text": [
      "{'abstract_inverted_index': None,\n",
      " 'alternate_host_venues': [],\n",
      " 'authorships': [{'author': {'display_name': 'Gabriel Germain',\n",
      "                             'id': 'https://openalex.org/A2794418983',\n",
      "                             'orcid': None},\n",
      "                  'author_position': 'first',\n",
      "                  'institutions': [],\n",
      "                  'raw_affiliation_string': None}],\n",
      " 'biblio': {'first_page': '223',\n",
      "            'issue': '384',\n",
      "            'last_page': '224',\n",
      "            'volume': '81'},\n",
      " 'cited_by_api_url': 'https://api.openalex.org/works?filter=cites:W2403480063',\n",
      " 'cited_by_count': 0,\n",
      " 'concepts': [{'display_name': 'Art',\n",
      "               'id': 'https://openalex.org/C142362112',\n",
      "               'level': 0,\n",
      "               'score': '0.406585',\n",
      "               'wikidata': 'https://www.wikidata.org/wiki/Q735'},\n",
      "              {'display_name': 'Philosophy',\n",
      "               'id': 'https://openalex.org/C138885662',\n",
      "               'level': 0,\n",
      "               'score': '0.363935',\n",
      "               'wikidata': 'https://www.wikidata.org/wiki/Q5891'}],\n",
      " 'counts_by_year': [],\n",
      " 'created_date': '2016-06-24',\n",
      " 'display_name': '12. Arrighetti (Graziano). Cosmologia mitica di Omero e '\n",
      "                 'Esiodo (Extr. des « Studi Classici e Orientali », v. XV)',\n",
      " 'doi': None,\n",
      " 'host_venue': {'display_name': 'Revue des Études Grecques',\n",
      "                'id': None,\n",
      "                'is_oa': None,\n",
      "                'issn': None,\n",
      "                'issn_l': None,\n",
      "                'license': None,\n",
      "                'publisher': 'Persée - Portail des revues scientifiques en SHS',\n",
      "                'type': None,\n",
      "                'url': 'https://www.persee.fr/doc/reg_0035-2039_1968_num_81_384_1022_t1_0223_0000_3',\n",
      "                'version': None},\n",
      " 'id': 'https://openalex.org/W2403480063',\n",
      " 'ids': {'mag': '2403480063', 'openalex': 'https://openalex.org/W2403480063'},\n",
      " 'is_paratext': None,\n",
      " 'is_retracted': False,\n",
      " 'mesh': [],\n",
      " 'open_access': {'is_oa': True, 'oa_status': None, 'oa_url': None},\n",
      " 'publication_date': '1968-01-01',\n",
      " 'publication_year': 1968,\n",
      " 'referenced_works': [],\n",
      " 'related_works': [],\n",
      " 'title': '12. Arrighetti (Graziano). Cosmologia mitica di Omero e Esiodo '\n",
      "          '(Extr. des « Studi Classici e Orientali », v. XV)',\n",
      " 'type': None,\n",
      " 'updated_date': '2021-11-04'}\n"
     ]
    }
   ],
   "source": [
    "RANDOM_WORKS_URL = 'http://api.openalex.org/works/random'\n",
    "\n",
    "import requests\n",
    "response = requests.get(url=RANDOM_WORKS_URL)\n",
    "response.raise_for_status()\n",
    "random_work = response.json()\n",
    "\n",
    "import pprint\n",
    "pprint.pprint(random_work)"
   ]
  },
  {
   "cell_type": "markdown",
   "id": "5e620a43-cfac-489e-8e48-642df57f0990",
   "metadata": {},
   "source": [
    "*** \n",
    "\n",
    "Run the notebook again (or if you are using the URL in your browser hit refresh) and voilà a new one!\n",
    "\n",
    "<p style='background:#e7edf7'>\n",
    "    ℹ️ <b>Pro tip</b> : remember the polite pool? <br>\n",
    "Add your email to random by putting \"<i>?mailto=you@example.com</i>\" at the end like this: http://api.openalex.org/works/random<i>?mailto=you@example.com</i>\n",
    "</p>\n",
    "\n",
    "Happy exploring! 😎"
   ]
  }
 ],
 "metadata": {
  "kernelspec": {
   "display_name": "Python 3 (ipykernel)",
   "language": "python",
   "name": "python3"
  },
  "language_info": {
   "codemirror_mode": {
    "name": "ipython",
    "version": 3
   },
   "file_extension": ".py",
   "mimetype": "text/x-python",
   "name": "python",
   "nbconvert_exporter": "python",
   "pygments_lexer": "ipython3",
   "version": "3.8.10"
  }
 },
 "nbformat": 4,
 "nbformat_minor": 5
}
