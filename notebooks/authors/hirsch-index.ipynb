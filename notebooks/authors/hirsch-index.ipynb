{
 "cells": [
  {
   "cell_type": "markdown",
   "id": "0e21df8e-8adf-47cd-803a-9fb480f3c40e",
   "metadata": {
    "id": "0e21df8e-8adf-47cd-803a-9fb480f3c40e"
   },
   "source": [
    "<div align=\"center\" style=\"border:solid 1px gray;\">\n",
    "    <a href=\"https://openalex.org/\">\n",
    "        <img src=\"../../resources/img/OpenAlex-banner.png\" alt=\"OpenAlex banner\" width=\"300\">\n",
    "    </a>\n",
    "</div>"
   ]
  },
  {
   "cell_type": "markdown",
   "id": "eb07e8a5-f514-48ca-b9ab-da287141cfdb",
   "metadata": {
    "id": "eb07e8a5-f514-48ca-b9ab-da287141cfdb"
   },
   "source": [
    "# Calculate the h-index for a given author\n",
    "\n",
    "<div style='background:#e7edf7'>\n",
    "    In this notebook we will use data from the OpenAlex API to determine:\n",
    "    <blockquote>\n",
    "        <b><i>What is the h-index for a given researcher?</i></b>\n",
    "    </blockquote>\n",
    "    To get to the bottom of this, we will use the following API functionalities: \n",
    "    <a href=\"https://docs.openalex.org/how-to-use-the-api/get-lists-of-entities/filter-entity-lists\">filtering</a>, \n",
    "    <a href=\"https://docs.openalex.org/how-to-use-the-api/get-lists-of-entities/sort-entity-lists\">sorting</a> and\n",
    "    <a href=\"https://docs.openalex.org/how-to-use-the-api/get-lists-of-entities/paging\">paging</a>.\n",
    "</div>\n",
    "<br>\n",
    "\n",
    "\n",
    "Whether you would like to check if you're on track to become a Nobel laureate, looking for a new academic position or try to secure funding, at some point in your academic career you might want (or need) to calculate your h-index.  \n",
    "In this tutorial, we will guide you through an example of how to compute the h-index of a researcher using metadata from OpenAlex. \n",
    "\n",
    "### Steps\n",
    "The data needed for determining a researcher’s h-index is a list of all their publications along with the number of citations each publication has received.  \n",
    "To obtain this information from OpenAlex, we will divide the query process into the following three steps:\n",
    "* 1. Gather a list of the researcher's publications.\n",
    "* 2. Determine the number of citations each publication has received.\n",
    "* 3. Sort the publications by citation count (from highest to lowest).\n",
    "\n",
    "Once we have a sorted list of citation counts, we can move on to the final step:  \n",
    "* 4. Calculate the h-index\n",
    "\n",
    "\n",
    "### Input\n",
    "The only input we need is an identifier for the selected researcher and here we opted for a person's [ORCID](https://info.orcid.org/researchers/).  \n",
    "The selected researcher for our example will be Heather Piwowar (https://orcid.org/0000-0003-1613-5981):"
   ]
  },
  {
   "cell_type": "code",
   "execution_count": 1,
   "id": "fb6dcef7-6eb1-4f08-bd92-94662f6252b4",
   "metadata": {
    "id": "fb6dcef7-6eb1-4f08-bd92-94662f6252b4"
   },
   "outputs": [],
   "source": [
    "# input\n",
    "orcid = 'https://orcid.org/0000-0003-1613-5981'"
   ]
  },
  {
   "cell_type": "markdown",
   "id": "8LwxTSzrsDIS",
   "metadata": {
    "id": "8LwxTSzrsDIS"
   },
   "source": [
    "All set, so let's dive in!\n",
    "\n",
    "<hr>\n",
    "\n",
    "## 1. Gather a list of the researcher's publications\n",
    "To query the OpenAlex API for a list of publications, we need to put together a suitable URL that specifies the data we are looking for.  \n",
    "Two pieces of information are needed for this URL:\n",
    "\n",
    "1. Which **entity type** (author, concept, institution, venue, work) should the query return as a result?\n",
    "* --> Since we want to query for \"_a list of publications_\", the entity type should be `works`.  \n",
    "\n",
    "2. What are the **criteria** the `works` need to fulfill to fit our purpose?\n",
    "* Here we need to look into the list of available [filters for works](https://docs.openalex.org/api-entities/works/filter-works) and select the appropriate ones to specify the subset of `works` we are looking for.  \n",
    "* -->  We want to query for \"*a list of the researcher's publications*\", so we will filter for the works that:  \n",
    "  * have at least one [authorship](https://docs.openalex.org/api-entities/works/work-object#author) affiliation with the researcher:  `author.orcid:https://orcid.org/0000-0003-1613-5981`, \n",
    "  * are not [paratext](https://docs.openalex.org/api-entities/works/work-object#is_paratext):  `is_paratext:false`\n",
    "\n",
    "<br>\n",
    "\n",
    "From these two pieces of information we can **put the URL together** as follows:\n",
    "* Starting point is the base URL of the OpenAlex API: `https://api.openalex.org/` \n",
    "* We append the entity type to it: `https://api.openalex.org/works` \n",
    "* All criteria need to go into the query parameter `filter` that is added after a question mark: `https://api.openalex.org/works?filter=` \n",
    "* To construct the filter value we take the criteria we specified and concatenate them using commas as separators: `https://api.openalex.org/works?filter=author.orcid:https://orcid.org/0000-0003-1613-5981,is_paratext:false`\n",
    "\n",
    "With this URL we can get all of Heather's works from OpenAlex!"
   ]
  },
  {
   "cell_type": "code",
   "execution_count": 2,
   "id": "n1kv3mhp009O",
   "metadata": {
    "colab": {
     "base_uri": "https://localhost:8080/"
    },
    "id": "n1kv3mhp009O",
    "outputId": "70453c52-0882-4d96-fcc2-b16e622a2ce9",
    "tags": []
   },
   "outputs": [
    {
     "name": "stdout",
     "output_type": "stream",
     "text": [
      "complete URL with filters:\n",
      "https://api.openalex.org/works?filter=author.orcid:https://orcid.org/0000-0003-1613-5981,is_paratext:false\n"
     ]
    }
   ],
   "source": [
    "def build_author_works_url(orcid):\n",
    "    # specify endpoint\n",
    "    endpoint = 'works'\n",
    "\n",
    "    # build the 'filter' parameter\n",
    "    filters = (\n",
    "      f'author.orcid:{orcid}',\n",
    "      'is_paratext:false'\n",
    "    )\n",
    "\n",
    "    # put the URL together\n",
    "    return f'https://api.openalex.org/{endpoint}?filter={\",\".join(filters)}'\n",
    "\n",
    "author_works_url = build_author_works_url(orcid)\n",
    "print(f'complete URL with filters:\\n{author_works_url}')"
   ]
  },
  {
   "cell_type": "markdown",
   "id": "179d9130-cfb0-4ac8-8744-119f082c5f9c",
   "metadata": {},
   "source": [
    "<hr>\n",
    "\n",
    "## 2. Determine each publication's citation count\n",
    "The next step is to determine the citation count for each of Heather's publications.  \n",
    "Fortunately, we don't have to look too far: the [metadata for each publication](https://docs.openalex.org/api-entities/works/work-object) already contains an attribute called `cited_by_count`, which is defined as *\"The number of citations to this work.\"*  This attribute is exactly what we are looking for!\n",
    "\n",
    "Let's download the list of publications from OpenAlex (using [paging](https://github.com/ourresearch/openalex-api-tutorials/blob/main/notebooks/getting-started/paging.ipynb)) and extract `cited_by_count` from each publication:"
   ]
  },
  {
   "cell_type": "code",
   "execution_count": 3,
   "id": "af6034d6-66a1-462d-8b79-f80705ae97d3",
   "metadata": {
    "tags": []
   },
   "outputs": [
    {
     "name": "stdout",
     "output_type": "stream",
     "text": [
      "complete list of citation counts:\n",
      "655, 500, 335, 319, 169, 118, 107, 74, 72, 42, 32, 27, 27, 26, 25, 23, 22, 16, 14, 10, 6, 5, 3, 3, 3, 3, 2, 2, 2, 2, 1, 1, 1, 1, 1, 1, 1, 1, 0, 0, 0, 0, 0, 0, 0, 0, 0, 0, 0, 0, 0, 0, 0, 0\n"
     ]
    }
   ],
   "source": [
    "import requests\n",
    "\n",
    "def get_all_citations(works_url):\n",
    "    works_url_with_cursor = works_url + '&cursor={}'\n",
    "\n",
    "    # loop through pages\n",
    "    cursor = '*'\n",
    "    citation_counts = []\n",
    "    while cursor:\n",
    "        # set cursor value and request page from OpenAlex\n",
    "        url = works_url_with_cursor.format(cursor)\n",
    "        page_with_results = requests.get(url).json()\n",
    "\n",
    "        # loop through partial list of results\n",
    "        # extract citation count from every work\n",
    "        results = page_with_results['results']\n",
    "        citation_counts += [work['cited_by_count'] for work in results]\n",
    "\n",
    "        # update cursor to meta.next_cursor\n",
    "        cursor = page_with_results['meta']['next_cursor']\n",
    "\n",
    "    return citation_counts\n",
    "\n",
    "citation_counts = get_all_citations(author_works_url)\n",
    "print(\"complete list of citation counts:\\n\" + ', '.join(str(x) for x in citation_counts))"
   ]
  },
  {
   "cell_type": "markdown",
   "id": "RUM18xQG0awr",
   "metadata": {
    "id": "RUM18xQG0awr"
   },
   "source": [
    "<hr>\n",
    "\n",
    "## 3. Sort the publications by citation count\n",
    "There is one more useful feature in the OpenAlex API, we can take advantage of that will make calculating the h-index more efficient:  \n",
    "Because we need the list of citation counts sorted from highest to lowest (as a prerequisite for h-index calculation), we can instruct the API to deliver the [list of publications already sorted](https://docs.openalex.org/how-to-use-the-api/get-lists-of-entities/sort-entity-lists) by citation count.\n",
    "\n",
    "To use this feature, we need to add the `sort` query parameter to our URL, where we specify\n",
    "* the attribute we want to sort by: `cited_by_count` \n",
    "* along with the sorting order: descending"
   ]
  },
  {
   "cell_type": "code",
   "execution_count": 4,
   "id": "b4e99c99-34da-41d3-95aa-a5ec80612f4d",
   "metadata": {
    "colab": {
     "base_uri": "https://localhost:8080/"
    },
    "id": "b4e99c99-34da-41d3-95aa-a5ec80612f4d",
    "outputId": "bd50c730-af66-4bef-c701-23da501ade34"
   },
   "outputs": [
    {
     "name": "stdout",
     "output_type": "stream",
     "text": [
      "complete URL with sort:\n",
      "https://api.openalex.org/works?filter=author.orcid:https://orcid.org/0000-0003-1613-5981,is_paratext:false&sort=cited_by_count:desc\n"
     ]
    }
   ],
   "source": [
    "sort_value = 'cited_by_count:desc'\n",
    "author_works_sorted_url = author_works_url + f'&sort={sort_value}'\n",
    "\n",
    "print(f'complete URL with sort:\\n{author_works_sorted_url}')"
   ]
  },
  {
   "cell_type": "markdown",
   "id": "bdf3dfac-9efd-458a-8db0-fad52fc6b2bb",
   "metadata": {},
   "source": [
    "<br>\n",
    "\n",
    "Let's use this URL to call the function from the previous step that downloads a list of publications from OpenAlex and extracts their citation count.  \n",
    "This will give us the list of citation counts but this time sorted from highest to lowest:"
   ]
  },
  {
   "cell_type": "code",
   "execution_count": 5,
   "id": "03f77d89-0eb8-406e-863c-015e5c811088",
   "metadata": {},
   "outputs": [
    {
     "name": "stdout",
     "output_type": "stream",
     "text": [
      "complete list of sorted citation counts:\n",
      "655, 500, 335, 319, 169, 118, 107, 74, 72, 42, 32, 27, 27, 26, 25, 23, 22, 16, 14, 10, 6, 5, 3, 3, 3, 3, 2, 2, 2, 2, 1, 1, 1, 1, 1, 1, 1, 1, 0, 0, 0, 0, 0, 0, 0, 0, 0, 0, 0, 0, 0, 0, 0, 0\n"
     ]
    }
   ],
   "source": [
    "sorted_citation_counts = get_all_citations(author_works_sorted_url)\n",
    "print(\"complete list of sorted citation counts:\\n\" + ', '.join(str(x) for x in sorted_citation_counts))"
   ]
  },
  {
   "cell_type": "markdown",
   "id": "99455f76-18e4-4428-ab7c-0bccd1fcd3b9",
   "metadata": {},
   "source": [
    "<hr>\n",
    "\n",
    "## 4. Calculate h-index\n",
    "\n",
    "From a sorted list of citation counts we can simply determine the h-index as the last position in which a citation count is greater than or equal to its position in the list:"
   ]
  },
  {
   "cell_type": "code",
   "execution_count": 6,
   "id": "e18d020a-9487-48d5-8f13-0b74b5061bcc",
   "metadata": {
    "id": "e18d020a-9487-48d5-8f13-0b74b5061bcc",
    "outputId": "6a23e48e-c017-4bb3-d354-0f236e6345c0"
   },
   "outputs": [
    {
     "name": "stdout",
     "output_type": "stream",
     "text": [
      "--> The specified researcher has an h-index of 17.\n"
     ]
    }
   ],
   "source": [
    "# modified binary search\n",
    "def calculate_hirsch_index(sorted_citations):\n",
    "    def hirsch_rec(low, high):\n",
    "        if low >= high:\n",
    "            return low + 1\n",
    "\n",
    "        mid = -(-(high + low) // 2) # math.ceil\n",
    "        if sorted_citations[mid] >= mid+1:\n",
    "            return hirsch_rec(mid, high)\n",
    "        else:\n",
    "            return hirsch_rec(low, mid-1)\n",
    "\n",
    "    # handle edge case: no citations\n",
    "    if not sorted_citations or sorted_citations[0]==0:\n",
    "        return 0\n",
    "    else:\n",
    "        return hirsch_rec(0, len(sorted_citations)-1)\n",
    "\n",
    "hindex = calculate_hirsch_index(sorted_citation_counts)\n",
    "print(f'--> The specified researcher has an h-index of {hindex}.')"
   ]
  },
  {
   "cell_type": "markdown",
   "id": "ab238ae5-2362-46d1-946a-0597fff1ed20",
   "metadata": {},
   "source": [
    "<br>\n",
    "\n",
    "While this is a quick solution, let's do it one more time **step by step** and visualize the process, so we can follow along:\n",
    "\n",
    "We take the list of sorted citation counts and **put it in a table**:\n",
    "* On the left side we add a column called \"position\" which is simply the publication's position in the sorted list (1,...,n).\n",
    "* On the right side we add another column that will tell us for each row if the citation count is greater than or equal to its position in the list.\n",
    "\n",
    "Based on the right column, we **divide the publications into two groups**:  \n",
    "* the ones where citation count >= position (green) and \n",
    "* the ones where citation count < position (yellow).\n",
    "\n",
    "The **h-index** is now simply the maximum value for position in the green group (circled)."
   ]
  },
  {
   "cell_type": "code",
   "execution_count": 7,
   "id": "b4089a6e-390f-4558-8a74-5ee03e0e1a11",
   "metadata": {
    "id": "b4089a6e-390f-4558-8a74-5ee03e0e1a11",
    "outputId": "abd9c85c-ff8e-4206-b035-e2573ef21709"
   },
   "outputs": [
    {
     "data": {
      "text/markdown": [
       "<table style=\"text-align:center\"><tr><th class=\"header\">position</th><th class=\"header\">citations</th><th class=\"header\">position<=citations?</th></tr><tr><td style=\"\">1</td><td style=\"\">655</td><td style=\"background-color: lightgreen;\">True</td><tr><td style=\"\">2</td><td style=\"\">500</td><td style=\"background-color: lightgreen;\">True</td><tr><td style=\"\">3</td><td style=\"\">335</td><td style=\"background-color: lightgreen;\">True</td><tr><td style=\"\">4</td><td style=\"\">319</td><td style=\"background-color: lightgreen;\">True</td><tr><td style=\"\">5</td><td style=\"\">169</td><td style=\"background-color: lightgreen;\">True</td><tr><td style=\"\">6</td><td style=\"\">118</td><td style=\"background-color: lightgreen;\">True</td><tr><td style=\"\">7</td><td style=\"\">107</td><td style=\"background-color: lightgreen;\">True</td><tr><td style=\"\">8</td><td style=\"\">74</td><td style=\"background-color: lightgreen;\">True</td><tr><td style=\"\">9</td><td style=\"\">72</td><td style=\"background-color: lightgreen;\">True</td><tr><td style=\"\">10</td><td style=\"\">42</td><td style=\"background-color: lightgreen;\">True</td><tr><td style=\"\">11</td><td style=\"\">32</td><td style=\"background-color: lightgreen;\">True</td><tr><td style=\"\">12</td><td style=\"\">27</td><td style=\"background-color: lightgreen;\">True</td><tr><td style=\"\">13</td><td style=\"\">27</td><td style=\"background-color: lightgreen;\">True</td><tr><td style=\"\">14</td><td style=\"\">26</td><td style=\"background-color: lightgreen;\">True</td><tr><td style=\"\">15</td><td style=\"\">25</td><td style=\"background-color: lightgreen;\">True</td><tr><td style=\"\">16</td><td style=\"\">23</td><td style=\"background-color: lightgreen;\">True</td><tr><td style=\"border-bottom: 2px solid black;border-radius: 50%;background-color: pink;\">17</td><td style=\"border-bottom: 2px solid black;\">22</td><td style=\"background-color: lightgreen;border-bottom: 2px solid black;\">True</td><tr><td style=\"\">18</td><td style=\"\">16</td><td style=\"background-color: gold;\">False</td><tr><td style=\"\">19</td><td style=\"\">14</td><td style=\"background-color: gold;\">False</td><tr><td style=\"\">20</td><td style=\"\">10</td><td style=\"background-color: gold;\">False</td><tr><td style=\"\">21</td><td style=\"\">6</td><td style=\"background-color: gold;\">False</td><tr><td style=\"\">22</td><td style=\"\">5</td><td style=\"background-color: gold;\">False</td><tr><td style=\"\">23</td><td style=\"\">3</td><td style=\"background-color: gold;\">False</td><tr><td style=\"\">24</td><td style=\"\">3</td><td style=\"background-color: gold;\">False</td><tr><td style=\"\">25</td><td style=\"\">3</td><td style=\"background-color: gold;\">False</td><tr><td style=\"\">26</td><td style=\"\">3</td><td style=\"background-color: gold;\">False</td><tr><td style=\"\">27</td><td style=\"\">2</td><td style=\"background-color: gold;\">False</td><tr><td style=\"\">28</td><td style=\"\">2</td><td style=\"background-color: gold;\">False</td><tr><td style=\"\">29</td><td style=\"\">2</td><td style=\"background-color: gold;\">False</td><tr><td style=\"\">30</td><td style=\"\">2</td><td style=\"background-color: gold;\">False</td><tr><td style=\"\">31</td><td style=\"\">1</td><td style=\"background-color: gold;\">False</td><tr><td style=\"\">32</td><td style=\"\">1</td><td style=\"background-color: gold;\">False</td><tr><td style=\"\">33</td><td style=\"\">1</td><td style=\"background-color: gold;\">False</td><tr><td style=\"\">34</td><td style=\"\">1</td><td style=\"background-color: gold;\">False</td><tr><td style=\"\">35</td><td style=\"\">1</td><td style=\"background-color: gold;\">False</td><tr><td style=\"\">36</td><td style=\"\">1</td><td style=\"background-color: gold;\">False</td><tr><td style=\"\">37</td><td style=\"\">1</td><td style=\"background-color: gold;\">False</td><tr><td style=\"\">38</td><td style=\"\">1</td><td style=\"background-color: gold;\">False</td><tr><td style=\"\">39</td><td style=\"\">0</td><td style=\"background-color: gold;\">False</td><tr><td style=\"\">40</td><td style=\"\">0</td><td style=\"background-color: gold;\">False</td><tr><td style=\"\">41</td><td style=\"\">0</td><td style=\"background-color: gold;\">False</td><tr><td style=\"\">42</td><td style=\"\">0</td><td style=\"background-color: gold;\">False</td><tr><td style=\"\">43</td><td style=\"\">0</td><td style=\"background-color: gold;\">False</td><tr><td style=\"\">44</td><td style=\"\">0</td><td style=\"background-color: gold;\">False</td><tr><td style=\"\">45</td><td style=\"\">0</td><td style=\"background-color: gold;\">False</td><tr><td style=\"\">46</td><td style=\"\">0</td><td style=\"background-color: gold;\">False</td><tr><td style=\"\">47</td><td style=\"\">0</td><td style=\"background-color: gold;\">False</td><tr><td style=\"\">48</td><td style=\"\">0</td><td style=\"background-color: gold;\">False</td><tr><td style=\"\">49</td><td style=\"\">0</td><td style=\"background-color: gold;\">False</td><tr><td style=\"\">50</td><td style=\"\">0</td><td style=\"background-color: gold;\">False</td><tr><td style=\"\">51</td><td style=\"\">0</td><td style=\"background-color: gold;\">False</td><tr><td style=\"\">52</td><td style=\"\">0</td><td style=\"background-color: gold;\">False</td><tr><td style=\"\">53</td><td style=\"\">0</td><td style=\"background-color: gold;\">False</td><tr><td style=\"\">54</td><td style=\"\">0</td><td style=\"background-color: gold;\">False</td></tr></table>"
      ],
      "text/plain": [
       "<IPython.core.display.Markdown object>"
      ]
     },
     "metadata": {},
     "output_type": "display_data"
    }
   ],
   "source": [
    "import pandas as pd\n",
    "\n",
    "def visualize_hirsch_index(citation_counts, hindex):\n",
    "    # create table with columns position, citations, position<=citations?\n",
    "    df = pd.DataFrame(citation_counts, columns =['citations'])\n",
    "    df.insert(0, 'position', range(1, 1 + len(df)))\n",
    "    df['position<=citations?'] = (df['position'] <= df['citations'])\n",
    "\n",
    "    # highlight row and hindex\n",
    "    def highlight_hindex_row(s, hindex):\n",
    "        if s['position'] < hindex:\n",
    "            return [''] + [''] + ['background-color: lightgreen;']\n",
    "        if s['position'] == hindex:\n",
    "            return ['border-radius: 50%;background-color: pink;border-bottom: 2px solid black;'] \\\n",
    "            + ['border-bottom: 2px solid black;'] \\\n",
    "            + ['background-color: lightgreen;border-bottom: 2px solid black;']\n",
    "        #else: \n",
    "        return [''] + [''] + ['background-color: gold;']\n",
    "\n",
    "    # style table: center columns, hide index, highlight rows\n",
    "    df_styled = df.style.hide(axis=\"index\") \\\n",
    "                      .set_properties(**{'text-align': 'center'}) \\\n",
    "                      .apply(highlight_hindex_row, hindex=hindex, axis=1)\n",
    "\n",
    "    return df,df_styled\n",
    "\n",
    "df,viz_df = visualize_hirsch_index(sorted_citation_counts, hindex)\n",
    "display(viz_df)"
   ]
  },
  {
   "cell_type": "markdown",
   "id": "89b7241c-c040-4cb9-86b6-4462185a907d",
   "metadata": {
    "id": "89b7241c-c040-4cb9-86b6-4462185a907d"
   },
   "source": [
    "-----\n",
    "Now that you know, how to determine the h-index using metadata from OpenAlex, feel free to use this notebook to calculate your h-index.  \n",
    "Additionally, if you are interested in further exploring the OpenAlex API, you could enhance the algorithm, e.g. one potential adaptation would be to exclude self-citations from the citation counts.  \n",
    "\n",
    "\n",
    "We hope this tutorial has been helpful, and we look forward to hearing how you are using data from OpenAlex!\n",
    "\n",
    "Happy exploring! 😎"
   ]
  }
 ],
 "metadata": {
  "colab": {
   "provenance": []
  },
  "kernelspec": {
   "display_name": "Python 3 (ipykernel)",
   "language": "python",
   "name": "python3"
  },
  "language_info": {
   "codemirror_mode": {
    "name": "ipython",
    "version": 3
   },
   "file_extension": ".py",
   "mimetype": "text/x-python",
   "name": "python",
   "nbconvert_exporter": "python",
   "pygments_lexer": "ipython3",
   "version": "3.10.7"
  }
 },
 "nbformat": 4,
 "nbformat_minor": 5
}
